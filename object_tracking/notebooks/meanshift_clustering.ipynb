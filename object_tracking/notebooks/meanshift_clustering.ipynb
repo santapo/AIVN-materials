{
 "cells": [
  {
   "cell_type": "code",
   "execution_count": 1,
   "metadata": {},
   "outputs": [],
   "source": [
    "import numpy as np"
   ]
  },
  {
   "cell_type": "code",
   "execution_count": 1,
   "metadata": {},
   "outputs": [
    {
     "data": {
      "image/png": "[encoded data removed]",
      "text/plain": [
       "<Figure size 432x288 with 1 Axes>"
      ]
     },
     "metadata": {
      "needs_background": "light"
     },
     "output_type": "display_data"
    }
   ],
   "source": [
    "from typing import Union, Optional\n",
    "import numpy as np\n",
    "\n",
    "\n",
    "class MeanShift:\n",
    "    \"\"\"MeanShift\n",
    "    Parameters:\n",
    "    -----------\n",
    "    radius: float, optional = None\n",
    "        Radius\n",
    "    radius_norm_step: int = 100\n",
    "        Number of radius steps\n",
    "    \"\"\"\n",
    "    def __init__(self, radius: Optional[float] = None, radius_norm_step: int = 100) -> None:\n",
    "        self.radius = radius\n",
    "        self.radius_norm_step = radius_norm_step\n",
    "\n",
    "    def fit(self, data: Union[list, np.ndarray]) -> MeanShift:\n",
    "\n",
    "        if self.radius is None:\n",
    "            all_data_centroid = np.average(data, axis=0)\n",
    "            all_data_norm = np.linalg.norm(all_data_centroid)\n",
    "            self.radius = all_data_norm / self.radius_norm_step\n",
    "\n",
    "        centroids = {}\n",
    "\n",
    "        for i in range(len(data)):\n",
    "            centroids[i] = data[i]\n",
    "\n",
    "        weights = [i for i in range(self.radius_norm_step)][::-1]\n",
    "        while True:\n",
    "            new_centroids = []\n",
    "            for i in centroids:\n",
    "                in_bandwidth = []\n",
    "                centroid = centroids[i]\n",
    "\n",
    "                for featureset in data:\n",
    "\n",
    "                    distance = np.linalg.norm(featureset - centroid)\n",
    "                    if distance == 0:\n",
    "                        distance = 0.00000000001\n",
    "                    weight_index = int(distance / self.radius)\n",
    "                    if weight_index > self.radius_norm_step - 1:\n",
    "                        weight_index = self.radius_norm_step - 1\n",
    "\n",
    "                    to_add = (weights[weight_index] ** 2) * [featureset]\n",
    "                    in_bandwidth += to_add\n",
    "\n",
    "                new_centroid = np.average(in_bandwidth, axis=0)\n",
    "                new_centroids.append(tuple(new_centroid))\n",
    "\n",
    "            uniques = sorted(list(set(new_centroids)))\n",
    "\n",
    "            to_pop = []\n",
    "\n",
    "            for i in uniques:\n",
    "                for ii in [i for i in uniques]:\n",
    "                    if i == ii:\n",
    "                        pass\n",
    "                    elif np.linalg.norm(np.array(i) - np.array(ii)) <= self.radius:\n",
    "                        to_pop.append(ii)\n",
    "                        break\n",
    "\n",
    "            for i in to_pop:\n",
    "                try:\n",
    "                    uniques.remove(i)\n",
    "                except:\n",
    "                    pass\n",
    "\n",
    "            prev_centroids = dict(centroids)\n",
    "            centroids = {}\n",
    "            for i in range(len(uniques)):\n",
    "                centroids[i] = np.array(uniques[i])\n",
    "\n",
    "            optimized = True\n",
    "\n",
    "            for i in centroids:\n",
    "                if not np.array_equal(centroids[i], prev_centroids[i]):\n",
    "                    optimized = False\n",
    "\n",
    "            if optimized:\n",
    "                break\n",
    "\n",
    "        self.centroids = centroids\n",
    "        return self\n",
    "\n",
    "    def predict(self, data: Union[list, np.ndarray]) -> list:\n",
    "        classifications = []\n",
    "        for row in data:\n",
    "            distances = [np.linalg.norm(row - self.centroids[centroid])\n",
    "                         for centroid in self.centroids]\n",
    "            classification = (distances.index(min(distances)))\n",
    "            classifications.append(classification)\n",
    "        return classifications\n",
    "\n",
    "\n",
    "if __name__ == '__main__':\n",
    "    import matplotlib.pyplot as plt\n",
    "    from matplotlib import style\n",
    "    from sklearn.datasets import make_blobs\n",
    "    style.use('ggplot')\n",
    "\n",
    "    X, y = make_blobs(n_samples=100, centers=3, n_features=2)\n",
    "\n",
    "    model = MeanShift()\n",
    "    model.fit(X)\n",
    "\n",
    "    centroids = model.centroids\n",
    "\n",
    "    colors = 10 * ['r', 'g', 'b', 'c', 'k', 'y']\n",
    "\n",
    "    for classification, featureset in zip(model.predict(X), X):\n",
    "        color = colors[classification]\n",
    "        plt.scatter(featureset[0], featureset[1], marker=\"x\",\n",
    "                    color=color, s=150, linewidths=5, zorder=10)\n",
    "\n",
    "    for c in centroids:\n",
    "        plt.scatter(centroids[c][0], centroids[c][1],\n",
    "                    color='k', marker=\"*\", s=150, linewidths=5)\n",
    "\n",
    "    plt.show()"
   ]
  },
  {
   "cell_type": "code",
   "execution_count": null,
   "metadata": {},
   "outputs": [],
   "source": []
  }
 ],
 "metadata": {
  "kernelspec": {
   "display_name": "Python 3.9.12 ('py39')",
   "language": "python",
   "name": "python3"
  },
  "language_info": {
   "codemirror_mode": {
    "name": "ipython",
    "version": 3
   },
   "file_extension": ".py",
   "mimetype": "text/x-python",
   "name": "python",
   "nbconvert_exporter": "python",
   "pygments_lexer": "ipython3",
   "version": "3.9.12"
  },
  "orig_nbformat": 4,
  "vscode": {
   "interpreter": {
    "hash": "aa3dd84ef0f650d9d8b867844db5a915f08cb58b5d6dab20fc53865ee0283ae4"
   }
  }
 },
 "nbformat": 4,
 "nbformat_minor": 2
}
