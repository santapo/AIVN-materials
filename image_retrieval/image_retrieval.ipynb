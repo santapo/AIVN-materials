{
 "cells": [
  {
   "cell_type": "code",
   "execution_count": null,
   "metadata": {},
   "outputs": [],
   "source": [
    "!pip install faiss-gpu"
   ]
  },
  {
   "cell_type": "code",
   "execution_count": 2,
   "metadata": {},
   "outputs": [],
   "source": [
    "import glob\n",
    "import os\n",
    "\n",
    "import faiss\n",
    "import numpy as np\n",
    "import torch\n",
    "import torch.nn as nn\n",
    "from PIL import Image\n",
    "from torchvision import models, transforms"
   ]
  },
  {
   "cell_type": "code",
   "execution_count": null,
   "metadata": {},
   "outputs": [],
   "source": [
    "IMAGE_DB_PATH = \"./data/train\"\n",
    "IMAGE_TEST = \"\"\n",
    "PRETRAINED_MODEL = \"./pretrained/mobilenet_v2.pth\"\n",
    "\n",
    "transform = transforms.Compose([\n",
    "    transforms.Resize(size=(224, 224)),\n",
    "    transforms.ToTensor(),\n",
    "    transforms.Normalize(mean=(0.5071, 0.4867, 0.4408),\n",
    "                        std=(0.2675, 0.2565, 0.2761))\n",
    "])\n",
    "\n",
    "model = models.mobilenet_v2(pretrained=True)\n",
    "# model.load_state_dict(torch.load(PRETRAINED_MODEL))\n",
    "model.classifier = nn.Identity()"
   ]
  },
  {
   "cell_type": "code",
   "execution_count": null,
   "metadata": {},
   "outputs": [],
   "source": [
    "faiss_index = faiss.IndexFlatL2(1000)   # build the index\n",
    "\n",
    "im_indices = []\n",
    "with torch.no_grad():\n",
    "    for f in glob.glob(os.path.join(IMAGE_DB_PATH, '*/*')):\n",
    "        im = Image.open(f)\n",
    "        im = im.resize((224,224))\n",
    "        im = torch.tensor([transform(im).numpy()]).cuda()\n",
    "    \n",
    "        preds = model(im)\n",
    "        preds = np.array([preds[0].cpu().numpy()])\n",
    "        faiss_index.add(preds) #add the representation to index\n",
    "        im_indices.append(f)   #store the image name to find it later on"
   ]
  },
  {
   "cell_type": "code",
   "execution_count": null,
   "metadata": {},
   "outputs": [],
   "source": [
    "with torch.no_grad():\n",
    "    im = Image.open(IMAGE_TEST)\n",
    "    im = im.resize((224,224))\n",
    "    im = torch.tensor([transforms(im).numpy()]).cuda()\n",
    "\n",
    "    test_embed = model(im).cpu().numpy()\n",
    "    _, I = faiss_index.search(test_embed, 5)\n",
    "    print(\"Retrieved Image: {}\".format(im_indices[I[0][0]]))"
   ]
  }
 ],
 "metadata": {
  "interpreter": {
   "hash": "bf644dc323261362eb87af98d3a884d267d659da47e9e9d5c2eba6f2ac28db01"
  },
  "kernelspec": {
   "display_name": "Python 3.9.7 ('AIVN_materials')",
   "language": "python",
   "name": "python3"
  },
  "language_info": {
   "codemirror_mode": {
    "name": "ipython",
    "version": 3
   },
   "file_extension": ".py",
   "mimetype": "text/x-python",
   "name": "python",
   "nbconvert_exporter": "python",
   "pygments_lexer": "ipython3",
   "version": "3.9.7"
  },
  "orig_nbformat": 4
 },
 "nbformat": 4,
 "nbformat_minor": 2
}
